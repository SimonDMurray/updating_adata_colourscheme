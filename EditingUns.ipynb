{
 "cells": [
  {
   "cell_type": "code",
   "execution_count": 2,
   "id": "deluxe-prior",
   "metadata": {},
   "outputs": [],
   "source": [
    "import scanpy"
   ]
  },
  {
   "cell_type": "code",
   "execution_count": 2,
   "id": "corrected-arrangement",
   "metadata": {},
   "outputs": [],
   "source": [
    "adata1 = scanpy.read_h5ad(\"/home/jovyan/ticket/tic-977/alldata.h5ad\")"
   ]
  },
  {
   "cell_type": "code",
   "execution_count": 3,
   "id": "viral-bangladesh",
   "metadata": {},
   "outputs": [],
   "source": [
    "adata2 = scanpy.read_h5ad(\"/home/jovyan/ticket/tic-977/alldatahighquality.h5ad\")"
   ]
  },
  {
   "cell_type": "code",
   "execution_count": 10,
   "id": "closed-motivation",
   "metadata": {},
   "outputs": [],
   "source": [
    "adata1.uns[\"Tissue_colors\"] = ['#00A087', '#DC0000', '#BFE7E1', '#3C5488', '#8b0000', '#4DBBD5', '#F39B7F', '#B09C85']\n",
    "adata2.uns[\"Tissue_colors\"] = ['#00A087', '#DC0000', '#BFE7E1', '#3C5488', '#8b0000', '#4DBBD5', '#F39B7F', '#B09C85']"
   ]
  },
  {
   "cell_type": "code",
   "execution_count": 12,
   "id": "hourly-providence",
   "metadata": {},
   "outputs": [],
   "source": [
    "adata1.write(\"/home/jovyan/ticket/tic-977/output/alldata.h5ad\")\n",
    "adata2.write(\"/home/jovyan/ticket/tic-977/output/alldatahighquality.h5ad\")"
   ]
  },
  {
   "cell_type": "code",
   "execution_count": 13,
   "id": "joined-representation",
   "metadata": {},
   "outputs": [],
   "source": [
    "adata3 = scanpy.read_h5ad(\"/home/jovyan/ticket/tic-977/output/alldata.h5ad\")"
   ]
  }
 ],
 "metadata": {
  "kernelspec": {
   "display_name": "Python 3",
   "language": "python",
   "name": "python3"
  },
  "language_info": {
   "codemirror_mode": {
    "name": "ipython",
    "version": 3
   },
   "file_extension": ".py",
   "mimetype": "text/x-python",
   "name": "python",
   "nbconvert_exporter": "python",
   "pygments_lexer": "ipython3",
   "version": "3.8.8"
  }
 },
 "nbformat": 4,
 "nbformat_minor": 5
}
